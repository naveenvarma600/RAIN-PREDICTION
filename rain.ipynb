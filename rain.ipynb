{
  "nbformat": 4,
  "nbformat_minor": 0,
  "metadata": {
    "colab": {
      "name": "rain.ipynb",
      "provenance": [],
      "collapsed_sections": [],
      "authorship_tag": "ABX9TyN/AZMdxT9W6kxrF0mHLoDq",
      "include_colab_link": true
    },
    "kernelspec": {
      "name": "python3",
      "display_name": "Python 3"
    },
    "language_info": {
      "name": "python"
    }
  },
  "cells": [
    {
      "cell_type": "markdown",
      "metadata": {
        "id": "view-in-github",
        "colab_type": "text"
      },
      "source": [
        "<a href=\"https://colab.research.google.com/github/naveenvarma600/RAIN-PREDICTION/blob/main/rain.ipynb\" target=\"_parent\"><img src=\"https://colab.research.google.com/assets/colab-badge.svg\" alt=\"Open In Colab\"/></a>"
      ]
    },
    {
      "cell_type": "markdown",
      "metadata": {
        "id": "f5Gcbhk0L7iv"
      },
      "source": [
        "IMPORTING NECESSARY LIBRARIES"
      ]
    },
    {
      "cell_type": "code",
      "metadata": {
        "id": "DQpOQlS0ayO7"
      },
      "source": [
        "import numpy as np\n",
        "import matplotlib.pyplot as plt\n",
        "import pandas as pd\n",
        "import seaborn as sns\n",
        "import random"
      ],
      "execution_count": null,
      "outputs": []
    },
    {
      "cell_type": "code",
      "metadata": {
        "id": "PI5SnKGwYXzw"
      },
      "source": [
        "#ignoring warnings\n",
        "import warnings\n",
        "warnings.filterwarnings(\"ignore\")"
      ],
      "execution_count": null,
      "outputs": []
    },
    {
      "cell_type": "markdown",
      "metadata": {
        "id": "cbTO8eC3MCYO"
      },
      "source": [
        "LOADING DATASET"
      ]
    },
    {
      "cell_type": "code",
      "metadata": {
        "id": "qts-IvtgY9aP"
      },
      "source": [
        "x=pd.read_csv(\"weather.csv\")"
      ],
      "execution_count": null,
      "outputs": []
    },
    {
      "cell_type": "markdown",
      "metadata": {
        "id": "FAUrZNNfMHvl"
      },
      "source": [
        "\n",
        "UNDERSTANDING DATA SET"
      ]
    },
    {
      "cell_type": "code",
      "metadata": {
        "colab": {
          "base_uri": "https://localhost:8080/"
        },
        "id": "unSOcgUThUtg",
        "outputId": "539d0dcf-7351-494c-8cbc-63aab143d83d"
      },
      "source": [
        "x.info()\n",
        "x.head()\n",
        "x.describe()\n",
        "x.isna().sum()"
      ],
      "execution_count": null,
      "outputs": [
        {
          "output_type": "stream",
          "text": [
            "<class 'pandas.core.frame.DataFrame'>\n",
            "RangeIndex: 366 entries, 0 to 365\n",
            "Data columns (total 22 columns):\n",
            " #   Column         Non-Null Count  Dtype  \n",
            "---  ------         --------------  -----  \n",
            " 0   MinTemp        366 non-null    float64\n",
            " 1   MaxTemp        366 non-null    float64\n",
            " 2   Rainfall       366 non-null    float64\n",
            " 3   Evaporation    366 non-null    float64\n",
            " 4   Sunshine       366 non-null    float64\n",
            " 5   WindGustDir    366 non-null    object \n",
            " 6   WindGustSpeed  366 non-null    int64  \n",
            " 7   WindDir9am     366 non-null    object \n",
            " 8   WindDir3pm     366 non-null    object \n",
            " 9   WindSpeed9am   366 non-null    int64  \n",
            " 10  WindSpeed3pm   366 non-null    int64  \n",
            " 11  Humidity9am    366 non-null    int64  \n",
            " 12  Humidity3pm    366 non-null    int64  \n",
            " 13  Pressure9am    366 non-null    float64\n",
            " 14  Pressure3pm    366 non-null    float64\n",
            " 15  Cloud9am       366 non-null    int64  \n",
            " 16  Cloud3pm       366 non-null    int64  \n",
            " 17  Temp9am        366 non-null    float64\n",
            " 18  Temp3pm        366 non-null    float64\n",
            " 19  RainToday      366 non-null    object \n",
            " 20  RISK_MM        366 non-null    float64\n",
            " 21  RainTomorrow   366 non-null    object \n",
            "dtypes: float64(10), int64(7), object(5)\n",
            "memory usage: 63.0+ KB\n"
          ],
          "name": "stdout"
        },
        {
          "output_type": "execute_result",
          "data": {
            "text/plain": [
              "MinTemp          0\n",
              "MaxTemp          0\n",
              "Rainfall         0\n",
              "Evaporation      0\n",
              "Sunshine         0\n",
              "WindGustDir      0\n",
              "WindGustSpeed    0\n",
              "WindDir9am       0\n",
              "WindDir3pm       0\n",
              "WindSpeed9am     0\n",
              "WindSpeed3pm     0\n",
              "Humidity9am      0\n",
              "Humidity3pm      0\n",
              "Pressure9am      0\n",
              "Pressure3pm      0\n",
              "Cloud9am         0\n",
              "Cloud3pm         0\n",
              "Temp9am          0\n",
              "Temp3pm          0\n",
              "RainToday        0\n",
              "RISK_MM          0\n",
              "RainTomorrow     0\n",
              "dtype: int64"
            ]
          },
          "metadata": {
            "tags": []
          },
          "execution_count": 65
        }
      ]
    },
    {
      "cell_type": "code",
      "metadata": {
        "colab": {
          "base_uri": "https://localhost:8080/",
          "height": 422
        },
        "id": "2HM3Qs0-5EMs",
        "outputId": "d0f3188e-da1d-4e7e-b7a8-884a9b97d2d7"
      },
      "source": [
        "x"
      ],
      "execution_count": null,
      "outputs": [
        {
          "output_type": "execute_result",
          "data": {
            "text/html": [
              "<div>\n",
              "<style scoped>\n",
              "    .dataframe tbody tr th:only-of-type {\n",
              "        vertical-align: middle;\n",
              "    }\n",
              "\n",
              "    .dataframe tbody tr th {\n",
              "        vertical-align: top;\n",
              "    }\n",
              "\n",
              "    .dataframe thead th {\n",
              "        text-align: right;\n",
              "    }\n",
              "</style>\n",
              "<table border=\"1\" class=\"dataframe\">\n",
              "  <thead>\n",
              "    <tr style=\"text-align: right;\">\n",
              "      <th></th>\n",
              "      <th>MinTemp</th>\n",
              "      <th>MaxTemp</th>\n",
              "      <th>Rainfall</th>\n",
              "      <th>Evaporation</th>\n",
              "      <th>Sunshine</th>\n",
              "      <th>WindGustDir</th>\n",
              "      <th>WindGustSpeed</th>\n",
              "      <th>WindDir9am</th>\n",
              "      <th>WindDir3pm</th>\n",
              "      <th>WindSpeed9am</th>\n",
              "      <th>WindSpeed3pm</th>\n",
              "      <th>Humidity9am</th>\n",
              "      <th>Humidity3pm</th>\n",
              "      <th>Pressure9am</th>\n",
              "      <th>Pressure3pm</th>\n",
              "      <th>Cloud9am</th>\n",
              "      <th>Cloud3pm</th>\n",
              "      <th>Temp9am</th>\n",
              "      <th>Temp3pm</th>\n",
              "      <th>RainToday</th>\n",
              "      <th>RISK_MM</th>\n",
              "      <th>RainTomorrow</th>\n",
              "    </tr>\n",
              "  </thead>\n",
              "  <tbody>\n",
              "    <tr>\n",
              "      <th>0</th>\n",
              "      <td>8.0</td>\n",
              "      <td>24.3</td>\n",
              "      <td>0.0</td>\n",
              "      <td>3.4</td>\n",
              "      <td>6.3</td>\n",
              "      <td>NW</td>\n",
              "      <td>30</td>\n",
              "      <td>SW</td>\n",
              "      <td>NW</td>\n",
              "      <td>6</td>\n",
              "      <td>20</td>\n",
              "      <td>68</td>\n",
              "      <td>29</td>\n",
              "      <td>1019.7</td>\n",
              "      <td>1015.0</td>\n",
              "      <td>7</td>\n",
              "      <td>7</td>\n",
              "      <td>14.4</td>\n",
              "      <td>23.6</td>\n",
              "      <td>No</td>\n",
              "      <td>3.6</td>\n",
              "      <td>Yes</td>\n",
              "    </tr>\n",
              "    <tr>\n",
              "      <th>1</th>\n",
              "      <td>14.0</td>\n",
              "      <td>26.9</td>\n",
              "      <td>3.6</td>\n",
              "      <td>4.4</td>\n",
              "      <td>9.7</td>\n",
              "      <td>ENE</td>\n",
              "      <td>39</td>\n",
              "      <td>E</td>\n",
              "      <td>W</td>\n",
              "      <td>4</td>\n",
              "      <td>17</td>\n",
              "      <td>80</td>\n",
              "      <td>36</td>\n",
              "      <td>1012.4</td>\n",
              "      <td>1008.4</td>\n",
              "      <td>5</td>\n",
              "      <td>3</td>\n",
              "      <td>17.5</td>\n",
              "      <td>25.7</td>\n",
              "      <td>Yes</td>\n",
              "      <td>3.6</td>\n",
              "      <td>Yes</td>\n",
              "    </tr>\n",
              "    <tr>\n",
              "      <th>2</th>\n",
              "      <td>13.7</td>\n",
              "      <td>23.4</td>\n",
              "      <td>3.6</td>\n",
              "      <td>5.8</td>\n",
              "      <td>3.3</td>\n",
              "      <td>NW</td>\n",
              "      <td>85</td>\n",
              "      <td>N</td>\n",
              "      <td>NNE</td>\n",
              "      <td>6</td>\n",
              "      <td>6</td>\n",
              "      <td>82</td>\n",
              "      <td>69</td>\n",
              "      <td>1009.5</td>\n",
              "      <td>1007.2</td>\n",
              "      <td>8</td>\n",
              "      <td>7</td>\n",
              "      <td>15.4</td>\n",
              "      <td>20.2</td>\n",
              "      <td>Yes</td>\n",
              "      <td>39.8</td>\n",
              "      <td>Yes</td>\n",
              "    </tr>\n",
              "    <tr>\n",
              "      <th>3</th>\n",
              "      <td>13.3</td>\n",
              "      <td>15.5</td>\n",
              "      <td>39.8</td>\n",
              "      <td>7.2</td>\n",
              "      <td>9.1</td>\n",
              "      <td>NW</td>\n",
              "      <td>54</td>\n",
              "      <td>WNW</td>\n",
              "      <td>W</td>\n",
              "      <td>30</td>\n",
              "      <td>24</td>\n",
              "      <td>62</td>\n",
              "      <td>56</td>\n",
              "      <td>1005.5</td>\n",
              "      <td>1007.0</td>\n",
              "      <td>2</td>\n",
              "      <td>7</td>\n",
              "      <td>13.5</td>\n",
              "      <td>14.1</td>\n",
              "      <td>Yes</td>\n",
              "      <td>2.8</td>\n",
              "      <td>Yes</td>\n",
              "    </tr>\n",
              "    <tr>\n",
              "      <th>4</th>\n",
              "      <td>7.6</td>\n",
              "      <td>16.1</td>\n",
              "      <td>2.8</td>\n",
              "      <td>5.6</td>\n",
              "      <td>10.6</td>\n",
              "      <td>SSE</td>\n",
              "      <td>50</td>\n",
              "      <td>SSE</td>\n",
              "      <td>ESE</td>\n",
              "      <td>20</td>\n",
              "      <td>28</td>\n",
              "      <td>68</td>\n",
              "      <td>49</td>\n",
              "      <td>1018.3</td>\n",
              "      <td>1018.5</td>\n",
              "      <td>7</td>\n",
              "      <td>7</td>\n",
              "      <td>11.1</td>\n",
              "      <td>15.4</td>\n",
              "      <td>Yes</td>\n",
              "      <td>0.0</td>\n",
              "      <td>No</td>\n",
              "    </tr>\n",
              "    <tr>\n",
              "      <th>...</th>\n",
              "      <td>...</td>\n",
              "      <td>...</td>\n",
              "      <td>...</td>\n",
              "      <td>...</td>\n",
              "      <td>...</td>\n",
              "      <td>...</td>\n",
              "      <td>...</td>\n",
              "      <td>...</td>\n",
              "      <td>...</td>\n",
              "      <td>...</td>\n",
              "      <td>...</td>\n",
              "      <td>...</td>\n",
              "      <td>...</td>\n",
              "      <td>...</td>\n",
              "      <td>...</td>\n",
              "      <td>...</td>\n",
              "      <td>...</td>\n",
              "      <td>...</td>\n",
              "      <td>...</td>\n",
              "      <td>...</td>\n",
              "      <td>...</td>\n",
              "      <td>...</td>\n",
              "    </tr>\n",
              "    <tr>\n",
              "      <th>361</th>\n",
              "      <td>9.0</td>\n",
              "      <td>30.7</td>\n",
              "      <td>0.0</td>\n",
              "      <td>7.6</td>\n",
              "      <td>12.1</td>\n",
              "      <td>NNW</td>\n",
              "      <td>76</td>\n",
              "      <td>SSE</td>\n",
              "      <td>NW</td>\n",
              "      <td>7</td>\n",
              "      <td>50</td>\n",
              "      <td>38</td>\n",
              "      <td>15</td>\n",
              "      <td>1016.1</td>\n",
              "      <td>1010.8</td>\n",
              "      <td>1</td>\n",
              "      <td>3</td>\n",
              "      <td>20.4</td>\n",
              "      <td>30.0</td>\n",
              "      <td>No</td>\n",
              "      <td>0.0</td>\n",
              "      <td>No</td>\n",
              "    </tr>\n",
              "    <tr>\n",
              "      <th>362</th>\n",
              "      <td>7.1</td>\n",
              "      <td>28.4</td>\n",
              "      <td>0.0</td>\n",
              "      <td>11.6</td>\n",
              "      <td>12.7</td>\n",
              "      <td>N</td>\n",
              "      <td>48</td>\n",
              "      <td>NNW</td>\n",
              "      <td>NNW</td>\n",
              "      <td>2</td>\n",
              "      <td>19</td>\n",
              "      <td>45</td>\n",
              "      <td>22</td>\n",
              "      <td>1020.0</td>\n",
              "      <td>1016.9</td>\n",
              "      <td>0</td>\n",
              "      <td>1</td>\n",
              "      <td>17.2</td>\n",
              "      <td>28.2</td>\n",
              "      <td>No</td>\n",
              "      <td>0.0</td>\n",
              "      <td>No</td>\n",
              "    </tr>\n",
              "    <tr>\n",
              "      <th>363</th>\n",
              "      <td>12.5</td>\n",
              "      <td>19.9</td>\n",
              "      <td>0.0</td>\n",
              "      <td>8.4</td>\n",
              "      <td>5.3</td>\n",
              "      <td>ESE</td>\n",
              "      <td>43</td>\n",
              "      <td>ENE</td>\n",
              "      <td>ENE</td>\n",
              "      <td>11</td>\n",
              "      <td>9</td>\n",
              "      <td>63</td>\n",
              "      <td>47</td>\n",
              "      <td>1024.0</td>\n",
              "      <td>1022.8</td>\n",
              "      <td>3</td>\n",
              "      <td>2</td>\n",
              "      <td>14.5</td>\n",
              "      <td>18.3</td>\n",
              "      <td>No</td>\n",
              "      <td>0.0</td>\n",
              "      <td>No</td>\n",
              "    </tr>\n",
              "    <tr>\n",
              "      <th>364</th>\n",
              "      <td>12.5</td>\n",
              "      <td>26.9</td>\n",
              "      <td>0.0</td>\n",
              "      <td>5.0</td>\n",
              "      <td>7.1</td>\n",
              "      <td>NW</td>\n",
              "      <td>46</td>\n",
              "      <td>SSW</td>\n",
              "      <td>WNW</td>\n",
              "      <td>6</td>\n",
              "      <td>28</td>\n",
              "      <td>69</td>\n",
              "      <td>39</td>\n",
              "      <td>1021.0</td>\n",
              "      <td>1016.2</td>\n",
              "      <td>6</td>\n",
              "      <td>7</td>\n",
              "      <td>15.8</td>\n",
              "      <td>25.9</td>\n",
              "      <td>No</td>\n",
              "      <td>0.0</td>\n",
              "      <td>No</td>\n",
              "    </tr>\n",
              "    <tr>\n",
              "      <th>365</th>\n",
              "      <td>12.3</td>\n",
              "      <td>30.2</td>\n",
              "      <td>0.0</td>\n",
              "      <td>6.0</td>\n",
              "      <td>12.6</td>\n",
              "      <td>NW</td>\n",
              "      <td>78</td>\n",
              "      <td>NW</td>\n",
              "      <td>WNW</td>\n",
              "      <td>31</td>\n",
              "      <td>35</td>\n",
              "      <td>43</td>\n",
              "      <td>13</td>\n",
              "      <td>1009.6</td>\n",
              "      <td>1009.2</td>\n",
              "      <td>1</td>\n",
              "      <td>1</td>\n",
              "      <td>23.8</td>\n",
              "      <td>28.6</td>\n",
              "      <td>No</td>\n",
              "      <td>0.0</td>\n",
              "      <td>No</td>\n",
              "    </tr>\n",
              "  </tbody>\n",
              "</table>\n",
              "<p>366 rows × 22 columns</p>\n",
              "</div>"
            ],
            "text/plain": [
              "     MinTemp  MaxTemp  Rainfall  ...  RainToday  RISK_MM RainTomorrow\n",
              "0        8.0     24.3       0.0  ...         No      3.6          Yes\n",
              "1       14.0     26.9       3.6  ...        Yes      3.6          Yes\n",
              "2       13.7     23.4       3.6  ...        Yes     39.8          Yes\n",
              "3       13.3     15.5      39.8  ...        Yes      2.8          Yes\n",
              "4        7.6     16.1       2.8  ...        Yes      0.0           No\n",
              "..       ...      ...       ...  ...        ...      ...          ...\n",
              "361      9.0     30.7       0.0  ...         No      0.0           No\n",
              "362      7.1     28.4       0.0  ...         No      0.0           No\n",
              "363     12.5     19.9       0.0  ...         No      0.0           No\n",
              "364     12.5     26.9       0.0  ...         No      0.0           No\n",
              "365     12.3     30.2       0.0  ...         No      0.0           No\n",
              "\n",
              "[366 rows x 22 columns]"
            ]
          },
          "metadata": {
            "tags": []
          },
          "execution_count": 66
        }
      ]
    },
    {
      "cell_type": "code",
      "metadata": {
        "colab": {
          "base_uri": "https://localhost:8080/",
          "height": 570
        },
        "id": "TKpv9Lka7H0a",
        "outputId": "a08df6a5-c8f9-440a-c97b-7e0b8f915316"
      },
      "source": [
        "x.describe()\n",
        "x.corr()"
      ],
      "execution_count": null,
      "outputs": [
        {
          "output_type": "execute_result",
          "data": {
            "text/html": [
              "<div>\n",
              "<style scoped>\n",
              "    .dataframe tbody tr th:only-of-type {\n",
              "        vertical-align: middle;\n",
              "    }\n",
              "\n",
              "    .dataframe tbody tr th {\n",
              "        vertical-align: top;\n",
              "    }\n",
              "\n",
              "    .dataframe thead th {\n",
              "        text-align: right;\n",
              "    }\n",
              "</style>\n",
              "<table border=\"1\" class=\"dataframe\">\n",
              "  <thead>\n",
              "    <tr style=\"text-align: right;\">\n",
              "      <th></th>\n",
              "      <th>MinTemp</th>\n",
              "      <th>MaxTemp</th>\n",
              "      <th>Rainfall</th>\n",
              "      <th>Evaporation</th>\n",
              "      <th>Sunshine</th>\n",
              "      <th>WindGustSpeed</th>\n",
              "      <th>WindSpeed9am</th>\n",
              "      <th>WindSpeed3pm</th>\n",
              "      <th>Humidity9am</th>\n",
              "      <th>Humidity3pm</th>\n",
              "      <th>Pressure9am</th>\n",
              "      <th>Pressure3pm</th>\n",
              "      <th>Cloud9am</th>\n",
              "      <th>Cloud3pm</th>\n",
              "      <th>Temp9am</th>\n",
              "      <th>Temp3pm</th>\n",
              "      <th>RISK_MM</th>\n",
              "    </tr>\n",
              "  </thead>\n",
              "  <tbody>\n",
              "    <tr>\n",
              "      <th>MinTemp</th>\n",
              "      <td>1.000000</td>\n",
              "      <td>0.752471</td>\n",
              "      <td>0.201939</td>\n",
              "      <td>0.649930</td>\n",
              "      <td>0.033588</td>\n",
              "      <td>0.219155</td>\n",
              "      <td>0.132616</td>\n",
              "      <td>-0.065922</td>\n",
              "      <td>-0.207897</td>\n",
              "      <td>-0.040709</td>\n",
              "      <td>-0.501707</td>\n",
              "      <td>-0.498007</td>\n",
              "      <td>0.215776</td>\n",
              "      <td>0.118397</td>\n",
              "      <td>0.916745</td>\n",
              "      <td>0.722730</td>\n",
              "      <td>0.218551</td>\n",
              "    </tr>\n",
              "    <tr>\n",
              "      <th>MaxTemp</th>\n",
              "      <td>0.752471</td>\n",
              "      <td>1.000000</td>\n",
              "      <td>-0.073560</td>\n",
              "      <td>0.690026</td>\n",
              "      <td>0.451824</td>\n",
              "      <td>0.107907</td>\n",
              "      <td>-0.210117</td>\n",
              "      <td>-0.167873</td>\n",
              "      <td>-0.359602</td>\n",
              "      <td>-0.533327</td>\n",
              "      <td>-0.290883</td>\n",
              "      <td>-0.379394</td>\n",
              "      <td>-0.175730</td>\n",
              "      <td>-0.135991</td>\n",
              "      <td>0.870604</td>\n",
              "      <td>0.989261</td>\n",
              "      <td>0.027557</td>\n",
              "    </tr>\n",
              "    <tr>\n",
              "      <th>Rainfall</th>\n",
              "      <td>0.201939</td>\n",
              "      <td>-0.073560</td>\n",
              "      <td>1.000000</td>\n",
              "      <td>-0.007293</td>\n",
              "      <td>-0.148777</td>\n",
              "      <td>0.096462</td>\n",
              "      <td>0.222593</td>\n",
              "      <td>0.056008</td>\n",
              "      <td>0.150109</td>\n",
              "      <td>0.289013</td>\n",
              "      <td>-0.331581</td>\n",
              "      <td>-0.250218</td>\n",
              "      <td>0.180046</td>\n",
              "      <td>0.127792</td>\n",
              "      <td>0.077299</td>\n",
              "      <td>-0.087493</td>\n",
              "      <td>0.089860</td>\n",
              "    </tr>\n",
              "    <tr>\n",
              "      <th>Evaporation</th>\n",
              "      <td>0.649930</td>\n",
              "      <td>0.690026</td>\n",
              "      <td>-0.007293</td>\n",
              "      <td>1.000000</td>\n",
              "      <td>0.320101</td>\n",
              "      <td>0.288319</td>\n",
              "      <td>0.070207</td>\n",
              "      <td>0.048601</td>\n",
              "      <td>-0.519587</td>\n",
              "      <td>-0.391780</td>\n",
              "      <td>-0.381906</td>\n",
              "      <td>-0.391093</td>\n",
              "      <td>-0.106007</td>\n",
              "      <td>-0.100045</td>\n",
              "      <td>0.707676</td>\n",
              "      <td>0.671632</td>\n",
              "      <td>0.076762</td>\n",
              "    </tr>\n",
              "    <tr>\n",
              "      <th>Sunshine</th>\n",
              "      <td>0.033588</td>\n",
              "      <td>0.451824</td>\n",
              "      <td>-0.148777</td>\n",
              "      <td>0.320101</td>\n",
              "      <td>1.000000</td>\n",
              "      <td>0.096846</td>\n",
              "      <td>-0.055685</td>\n",
              "      <td>0.071140</td>\n",
              "      <td>-0.498358</td>\n",
              "      <td>-0.759123</td>\n",
              "      <td>0.000508</td>\n",
              "      <td>-0.041331</td>\n",
              "      <td>-0.681418</td>\n",
              "      <td>-0.661968</td>\n",
              "      <td>0.218018</td>\n",
              "      <td>0.470542</td>\n",
              "      <td>-0.381585</td>\n",
              "    </tr>\n",
              "    <tr>\n",
              "      <th>WindGustSpeed</th>\n",
              "      <td>0.219155</td>\n",
              "      <td>0.107907</td>\n",
              "      <td>0.096462</td>\n",
              "      <td>0.288319</td>\n",
              "      <td>0.096846</td>\n",
              "      <td>1.000000</td>\n",
              "      <td>0.530220</td>\n",
              "      <td>0.693242</td>\n",
              "      <td>-0.352001</td>\n",
              "      <td>-0.068954</td>\n",
              "      <td>-0.542993</td>\n",
              "      <td>-0.529988</td>\n",
              "      <td>-0.009174</td>\n",
              "      <td>0.052153</td>\n",
              "      <td>0.257088</td>\n",
              "      <td>0.070631</td>\n",
              "      <td>0.251593</td>\n",
              "    </tr>\n",
              "    <tr>\n",
              "      <th>WindSpeed9am</th>\n",
              "      <td>0.132616</td>\n",
              "      <td>-0.210117</td>\n",
              "      <td>0.222593</td>\n",
              "      <td>0.070207</td>\n",
              "      <td>-0.055685</td>\n",
              "      <td>0.530220</td>\n",
              "      <td>1.000000</td>\n",
              "      <td>0.471741</td>\n",
              "      <td>-0.274809</td>\n",
              "      <td>0.142666</td>\n",
              "      <td>-0.359703</td>\n",
              "      <td>-0.252286</td>\n",
              "      <td>0.103971</td>\n",
              "      <td>-0.028354</td>\n",
              "      <td>0.069998</td>\n",
              "      <td>-0.229226</td>\n",
              "      <td>0.041161</td>\n",
              "    </tr>\n",
              "    <tr>\n",
              "      <th>WindSpeed3pm</th>\n",
              "      <td>-0.065922</td>\n",
              "      <td>-0.167873</td>\n",
              "      <td>0.056008</td>\n",
              "      <td>0.048601</td>\n",
              "      <td>0.071140</td>\n",
              "      <td>0.693242</td>\n",
              "      <td>0.471741</td>\n",
              "      <td>1.000000</td>\n",
              "      <td>-0.266092</td>\n",
              "      <td>-0.026368</td>\n",
              "      <td>-0.359800</td>\n",
              "      <td>-0.337325</td>\n",
              "      <td>-0.026426</td>\n",
              "      <td>0.007207</td>\n",
              "      <td>-0.017766</td>\n",
              "      <td>-0.187570</td>\n",
              "      <td>-0.009447</td>\n",
              "    </tr>\n",
              "    <tr>\n",
              "      <th>Humidity9am</th>\n",
              "      <td>-0.207897</td>\n",
              "      <td>-0.359602</td>\n",
              "      <td>0.150109</td>\n",
              "      <td>-0.519587</td>\n",
              "      <td>-0.498358</td>\n",
              "      <td>-0.352001</td>\n",
              "      <td>-0.274809</td>\n",
              "      <td>-0.266092</td>\n",
              "      <td>1.000000</td>\n",
              "      <td>0.546718</td>\n",
              "      <td>0.135727</td>\n",
              "      <td>0.134420</td>\n",
              "      <td>0.392842</td>\n",
              "      <td>0.271938</td>\n",
              "      <td>-0.436551</td>\n",
              "      <td>-0.355119</td>\n",
              "      <td>0.165931</td>\n",
              "    </tr>\n",
              "    <tr>\n",
              "      <th>Humidity3pm</th>\n",
              "      <td>-0.040709</td>\n",
              "      <td>-0.533327</td>\n",
              "      <td>0.289013</td>\n",
              "      <td>-0.391780</td>\n",
              "      <td>-0.759123</td>\n",
              "      <td>-0.068954</td>\n",
              "      <td>0.142666</td>\n",
              "      <td>-0.026368</td>\n",
              "      <td>0.546718</td>\n",
              "      <td>1.000000</td>\n",
              "      <td>-0.087946</td>\n",
              "      <td>-0.010052</td>\n",
              "      <td>0.551633</td>\n",
              "      <td>0.510108</td>\n",
              "      <td>-0.255681</td>\n",
              "      <td>-0.581676</td>\n",
              "      <td>0.358752</td>\n",
              "    </tr>\n",
              "    <tr>\n",
              "      <th>Pressure9am</th>\n",
              "      <td>-0.501707</td>\n",
              "      <td>-0.290883</td>\n",
              "      <td>-0.331581</td>\n",
              "      <td>-0.381906</td>\n",
              "      <td>0.000508</td>\n",
              "      <td>-0.542993</td>\n",
              "      <td>-0.359703</td>\n",
              "      <td>-0.359800</td>\n",
              "      <td>0.135727</td>\n",
              "      <td>-0.087946</td>\n",
              "      <td>1.000000</td>\n",
              "      <td>0.967895</td>\n",
              "      <td>-0.157553</td>\n",
              "      <td>-0.141000</td>\n",
              "      <td>-0.460418</td>\n",
              "      <td>-0.253674</td>\n",
              "      <td>-0.290584</td>\n",
              "    </tr>\n",
              "    <tr>\n",
              "      <th>Pressure3pm</th>\n",
              "      <td>-0.498007</td>\n",
              "      <td>-0.379394</td>\n",
              "      <td>-0.250218</td>\n",
              "      <td>-0.391093</td>\n",
              "      <td>-0.041331</td>\n",
              "      <td>-0.529988</td>\n",
              "      <td>-0.252286</td>\n",
              "      <td>-0.337325</td>\n",
              "      <td>0.134420</td>\n",
              "      <td>-0.010052</td>\n",
              "      <td>0.967895</td>\n",
              "      <td>1.000000</td>\n",
              "      <td>-0.128944</td>\n",
              "      <td>-0.143837</td>\n",
              "      <td>-0.492636</td>\n",
              "      <td>-0.345485</td>\n",
              "      <td>-0.311421</td>\n",
              "    </tr>\n",
              "    <tr>\n",
              "      <th>Cloud9am</th>\n",
              "      <td>0.215776</td>\n",
              "      <td>-0.175730</td>\n",
              "      <td>0.180046</td>\n",
              "      <td>-0.106007</td>\n",
              "      <td>-0.681418</td>\n",
              "      <td>-0.009174</td>\n",
              "      <td>0.103971</td>\n",
              "      <td>-0.026426</td>\n",
              "      <td>0.392842</td>\n",
              "      <td>0.551633</td>\n",
              "      <td>-0.157553</td>\n",
              "      <td>-0.128944</td>\n",
              "      <td>1.000000</td>\n",
              "      <td>0.525218</td>\n",
              "      <td>0.021041</td>\n",
              "      <td>-0.202344</td>\n",
              "      <td>0.273914</td>\n",
              "    </tr>\n",
              "    <tr>\n",
              "      <th>Cloud3pm</th>\n",
              "      <td>0.118397</td>\n",
              "      <td>-0.135991</td>\n",
              "      <td>0.127792</td>\n",
              "      <td>-0.100045</td>\n",
              "      <td>-0.661968</td>\n",
              "      <td>0.052153</td>\n",
              "      <td>-0.028354</td>\n",
              "      <td>0.007207</td>\n",
              "      <td>0.271938</td>\n",
              "      <td>0.510108</td>\n",
              "      <td>-0.141000</td>\n",
              "      <td>-0.143837</td>\n",
              "      <td>0.525218</td>\n",
              "      <td>1.000000</td>\n",
              "      <td>0.040945</td>\n",
              "      <td>-0.172814</td>\n",
              "      <td>0.326455</td>\n",
              "    </tr>\n",
              "    <tr>\n",
              "      <th>Temp9am</th>\n",
              "      <td>0.916745</td>\n",
              "      <td>0.870604</td>\n",
              "      <td>0.077299</td>\n",
              "      <td>0.707676</td>\n",
              "      <td>0.218018</td>\n",
              "      <td>0.257088</td>\n",
              "      <td>0.069998</td>\n",
              "      <td>-0.017766</td>\n",
              "      <td>-0.436551</td>\n",
              "      <td>-0.255681</td>\n",
              "      <td>-0.460418</td>\n",
              "      <td>-0.492636</td>\n",
              "      <td>0.021041</td>\n",
              "      <td>0.040945</td>\n",
              "      <td>1.000000</td>\n",
              "      <td>0.844406</td>\n",
              "      <td>0.164842</td>\n",
              "    </tr>\n",
              "    <tr>\n",
              "      <th>Temp3pm</th>\n",
              "      <td>0.722730</td>\n",
              "      <td>0.989261</td>\n",
              "      <td>-0.087493</td>\n",
              "      <td>0.671632</td>\n",
              "      <td>0.470542</td>\n",
              "      <td>0.070631</td>\n",
              "      <td>-0.229226</td>\n",
              "      <td>-0.187570</td>\n",
              "      <td>-0.355119</td>\n",
              "      <td>-0.581676</td>\n",
              "      <td>-0.253674</td>\n",
              "      <td>-0.345485</td>\n",
              "      <td>-0.202344</td>\n",
              "      <td>-0.172814</td>\n",
              "      <td>0.844406</td>\n",
              "      <td>1.000000</td>\n",
              "      <td>-0.005825</td>\n",
              "    </tr>\n",
              "    <tr>\n",
              "      <th>RISK_MM</th>\n",
              "      <td>0.218551</td>\n",
              "      <td>0.027557</td>\n",
              "      <td>0.089860</td>\n",
              "      <td>0.076762</td>\n",
              "      <td>-0.381585</td>\n",
              "      <td>0.251593</td>\n",
              "      <td>0.041161</td>\n",
              "      <td>-0.009447</td>\n",
              "      <td>0.165931</td>\n",
              "      <td>0.358752</td>\n",
              "      <td>-0.290584</td>\n",
              "      <td>-0.311421</td>\n",
              "      <td>0.273914</td>\n",
              "      <td>0.326455</td>\n",
              "      <td>0.164842</td>\n",
              "      <td>-0.005825</td>\n",
              "      <td>1.000000</td>\n",
              "    </tr>\n",
              "  </tbody>\n",
              "</table>\n",
              "</div>"
            ],
            "text/plain": [
              "                MinTemp   MaxTemp  Rainfall  ...   Temp9am   Temp3pm   RISK_MM\n",
              "MinTemp        1.000000  0.752471  0.201939  ...  0.916745  0.722730  0.218551\n",
              "MaxTemp        0.752471  1.000000 -0.073560  ...  0.870604  0.989261  0.027557\n",
              "Rainfall       0.201939 -0.073560  1.000000  ...  0.077299 -0.087493  0.089860\n",
              "Evaporation    0.649930  0.690026 -0.007293  ...  0.707676  0.671632  0.076762\n",
              "Sunshine       0.033588  0.451824 -0.148777  ...  0.218018  0.470542 -0.381585\n",
              "WindGustSpeed  0.219155  0.107907  0.096462  ...  0.257088  0.070631  0.251593\n",
              "WindSpeed9am   0.132616 -0.210117  0.222593  ...  0.069998 -0.229226  0.041161\n",
              "WindSpeed3pm  -0.065922 -0.167873  0.056008  ... -0.017766 -0.187570 -0.009447\n",
              "Humidity9am   -0.207897 -0.359602  0.150109  ... -0.436551 -0.355119  0.165931\n",
              "Humidity3pm   -0.040709 -0.533327  0.289013  ... -0.255681 -0.581676  0.358752\n",
              "Pressure9am   -0.501707 -0.290883 -0.331581  ... -0.460418 -0.253674 -0.290584\n",
              "Pressure3pm   -0.498007 -0.379394 -0.250218  ... -0.492636 -0.345485 -0.311421\n",
              "Cloud9am       0.215776 -0.175730  0.180046  ...  0.021041 -0.202344  0.273914\n",
              "Cloud3pm       0.118397 -0.135991  0.127792  ...  0.040945 -0.172814  0.326455\n",
              "Temp9am        0.916745  0.870604  0.077299  ...  1.000000  0.844406  0.164842\n",
              "Temp3pm        0.722730  0.989261 -0.087493  ...  0.844406  1.000000 -0.005825\n",
              "RISK_MM        0.218551  0.027557  0.089860  ...  0.164842 -0.005825  1.000000\n",
              "\n",
              "[17 rows x 17 columns]"
            ]
          },
          "metadata": {
            "tags": []
          },
          "execution_count": 67
        }
      ]
    },
    {
      "cell_type": "code",
      "metadata": {
        "id": "B7i_clWPC4Jn"
      },
      "source": [
        "rain_dict={\"Yes\":1,\"No\":0}\n",
        "x[\"RainToday\"]=x[\"RainToday\"].map(rain_dict)\n",
        "x[\"RainTomorrow\"]=x[\"RainTomorrow\"].map(rain_dict)"
      ],
      "execution_count": null,
      "outputs": []
    },
    {
      "cell_type": "code",
      "metadata": {
        "colab": {
          "base_uri": "https://localhost:8080/",
          "height": 215
        },
        "id": "mVbLMPb5Dn5M",
        "outputId": "7199d4c3-35e0-4bf5-b8b7-c0c35cd8a03a"
      },
      "source": [
        "x.head()"
      ],
      "execution_count": 94,
      "outputs": [
        {
          "output_type": "execute_result",
          "data": {
            "text/html": [
              "<div>\n",
              "<style scoped>\n",
              "    .dataframe tbody tr th:only-of-type {\n",
              "        vertical-align: middle;\n",
              "    }\n",
              "\n",
              "    .dataframe tbody tr th {\n",
              "        vertical-align: top;\n",
              "    }\n",
              "\n",
              "    .dataframe thead th {\n",
              "        text-align: right;\n",
              "    }\n",
              "</style>\n",
              "<table border=\"1\" class=\"dataframe\">\n",
              "  <thead>\n",
              "    <tr style=\"text-align: right;\">\n",
              "      <th></th>\n",
              "      <th>MinTemp</th>\n",
              "      <th>MaxTemp</th>\n",
              "      <th>Rainfall</th>\n",
              "      <th>Evaporation</th>\n",
              "      <th>Sunshine</th>\n",
              "      <th>WindGustSpeed</th>\n",
              "      <th>WindSpeed9am</th>\n",
              "      <th>WindSpeed3pm</th>\n",
              "      <th>Humidity9am</th>\n",
              "      <th>Humidity3pm</th>\n",
              "      <th>Pressure9am</th>\n",
              "      <th>Pressure3pm</th>\n",
              "      <th>Cloud9am</th>\n",
              "      <th>Cloud3pm</th>\n",
              "      <th>Temp9am</th>\n",
              "      <th>Temp3pm</th>\n",
              "      <th>RainToday</th>\n",
              "      <th>RISK_MM</th>\n",
              "    </tr>\n",
              "  </thead>\n",
              "  <tbody>\n",
              "    <tr>\n",
              "      <th>0</th>\n",
              "      <td>8.0</td>\n",
              "      <td>24.3</td>\n",
              "      <td>0.0</td>\n",
              "      <td>3.4</td>\n",
              "      <td>6.3</td>\n",
              "      <td>30</td>\n",
              "      <td>6</td>\n",
              "      <td>20</td>\n",
              "      <td>68</td>\n",
              "      <td>29</td>\n",
              "      <td>1019.7</td>\n",
              "      <td>1015.0</td>\n",
              "      <td>7</td>\n",
              "      <td>7</td>\n",
              "      <td>14.4</td>\n",
              "      <td>23.6</td>\n",
              "      <td>0</td>\n",
              "      <td>3.6</td>\n",
              "    </tr>\n",
              "    <tr>\n",
              "      <th>1</th>\n",
              "      <td>14.0</td>\n",
              "      <td>26.9</td>\n",
              "      <td>3.6</td>\n",
              "      <td>4.4</td>\n",
              "      <td>9.7</td>\n",
              "      <td>39</td>\n",
              "      <td>4</td>\n",
              "      <td>17</td>\n",
              "      <td>80</td>\n",
              "      <td>36</td>\n",
              "      <td>1012.4</td>\n",
              "      <td>1008.4</td>\n",
              "      <td>5</td>\n",
              "      <td>3</td>\n",
              "      <td>17.5</td>\n",
              "      <td>25.7</td>\n",
              "      <td>1</td>\n",
              "      <td>3.6</td>\n",
              "    </tr>\n",
              "    <tr>\n",
              "      <th>2</th>\n",
              "      <td>13.7</td>\n",
              "      <td>23.4</td>\n",
              "      <td>3.6</td>\n",
              "      <td>5.8</td>\n",
              "      <td>3.3</td>\n",
              "      <td>85</td>\n",
              "      <td>6</td>\n",
              "      <td>6</td>\n",
              "      <td>82</td>\n",
              "      <td>69</td>\n",
              "      <td>1009.5</td>\n",
              "      <td>1007.2</td>\n",
              "      <td>8</td>\n",
              "      <td>7</td>\n",
              "      <td>15.4</td>\n",
              "      <td>20.2</td>\n",
              "      <td>1</td>\n",
              "      <td>39.8</td>\n",
              "    </tr>\n",
              "    <tr>\n",
              "      <th>3</th>\n",
              "      <td>13.3</td>\n",
              "      <td>15.5</td>\n",
              "      <td>39.8</td>\n",
              "      <td>7.2</td>\n",
              "      <td>9.1</td>\n",
              "      <td>54</td>\n",
              "      <td>30</td>\n",
              "      <td>24</td>\n",
              "      <td>62</td>\n",
              "      <td>56</td>\n",
              "      <td>1005.5</td>\n",
              "      <td>1007.0</td>\n",
              "      <td>2</td>\n",
              "      <td>7</td>\n",
              "      <td>13.5</td>\n",
              "      <td>14.1</td>\n",
              "      <td>1</td>\n",
              "      <td>2.8</td>\n",
              "    </tr>\n",
              "    <tr>\n",
              "      <th>4</th>\n",
              "      <td>7.6</td>\n",
              "      <td>16.1</td>\n",
              "      <td>2.8</td>\n",
              "      <td>5.6</td>\n",
              "      <td>10.6</td>\n",
              "      <td>50</td>\n",
              "      <td>20</td>\n",
              "      <td>28</td>\n",
              "      <td>68</td>\n",
              "      <td>49</td>\n",
              "      <td>1018.3</td>\n",
              "      <td>1018.5</td>\n",
              "      <td>7</td>\n",
              "      <td>7</td>\n",
              "      <td>11.1</td>\n",
              "      <td>15.4</td>\n",
              "      <td>1</td>\n",
              "      <td>0.0</td>\n",
              "    </tr>\n",
              "  </tbody>\n",
              "</table>\n",
              "</div>"
            ],
            "text/plain": [
              "   MinTemp  MaxTemp  Rainfall  ...  Temp3pm  RainToday  RISK_MM\n",
              "0      8.0     24.3       0.0  ...     23.6          0      3.6\n",
              "1     14.0     26.9       3.6  ...     25.7          1      3.6\n",
              "2     13.7     23.4       3.6  ...     20.2          1     39.8\n",
              "3     13.3     15.5      39.8  ...     14.1          1      2.8\n",
              "4      7.6     16.1       2.8  ...     15.4          1      0.0\n",
              "\n",
              "[5 rows x 18 columns]"
            ]
          },
          "metadata": {
            "tags": []
          },
          "execution_count": 94
        }
      ]
    },
    {
      "cell_type": "markdown",
      "metadata": {
        "id": "xVFi5u-8MQUW"
      },
      "source": [
        "Assigning predicting(x) and result(y) variables"
      ]
    },
    {
      "cell_type": "code",
      "metadata": {
        "id": "zaTo3BV17ewF"
      },
      "source": [
        "#as it becomes complex if we also consider wind direction,so i'm leaving it\n",
        "y=x[\"RainTomorrow\"]\n",
        "x.drop([\"RainTomorrow\",\"WindGustDir\",\"WindDir9am\",\"WindDir3pm\"],axis=1,inplace=True)"
      ],
      "execution_count": null,
      "outputs": []
    },
    {
      "cell_type": "code",
      "metadata": {
        "id": "uUGKNq4QC0cw"
      },
      "source": [
        "#as we have already mapped yes with 1 and no with 0,we reconvert it\n",
        "def get_rain(number):\n",
        "  if number==1:\n",
        "    return \"yes,there are chances for rain tomorrow\"\n",
        "  else:\n",
        "    return \"Most probably,rain won't fall tomorrow\""
      ],
      "execution_count": null,
      "outputs": []
    },
    {
      "cell_type": "code",
      "metadata": {
        "id": "K9a0u8Niilu8"
      },
      "source": [
        "#splitting data into training and testing sets\n",
        "from sklearn.model_selection import train_test_split\n",
        "x_train,x_test,y_train,y_test=train_test_split(x,y,test_size=0.2,stratify=y)"
      ],
      "execution_count": 95,
      "outputs": []
    },
    {
      "cell_type": "markdown",
      "metadata": {
        "id": "0bT2i36yMgn9"
      },
      "source": [
        "LOGISTIC REGRESSION\n",
        "\n"
      ]
    },
    {
      "cell_type": "code",
      "metadata": {
        "colab": {
          "base_uri": "https://localhost:8080/",
          "height": 35
        },
        "id": "83JgSTyJFKOi",
        "outputId": "7f62b73a-39bf-4032-ea42-de19e7812611"
      },
      "source": [
        "from sklearn.linear_model import LogisticRegression\n",
        "reg_log=LogisticRegression()\n",
        "reg_log.fit(x_train,y_train)\n",
        "\n",
        "# predciting the testing data\n",
        "y_pred=reg_log.predict(x_test)\n",
        "\n",
        "from sklearn.metrics import accuracy_score\n",
        "#multiplying with hundred for converting it interms of percentage(%)\n",
        "reg_log_score=accuracy_score(y_test,y_pred)*100\n",
        "\n",
        "#predicting a random sample,whether it rains tomorrow or not\n",
        "my_pred=reg_log.predict(np.asarray((8,24.3,0,3.4,6.3,30,6,20,68,29,1019.7,1015,7,7,14.4,23.6,0,3.6)).reshape(1,-1))\n",
        "get_rain(my_pred)"
      ],
      "execution_count": null,
      "outputs": [
        {
          "output_type": "execute_result",
          "data": {
            "application/vnd.google.colaboratory.intrinsic+json": {
              "type": "string"
            },
            "text/plain": [
              "'yes,there are chances for rain tomorrow'"
            ]
          },
          "metadata": {
            "tags": []
          },
          "execution_count": 80
        }
      ]
    },
    {
      "cell_type": "markdown",
      "metadata": {
        "id": "2vQcqGmIMizV"
      },
      "source": [
        "K NEAREST NEIGHGBORS\n",
        "\n"
      ]
    },
    {
      "cell_type": "code",
      "metadata": {
        "colab": {
          "base_uri": "https://localhost:8080/",
          "height": 35
        },
        "id": "HPxifXdSGDbX",
        "outputId": "5ed92fa3-47b6-4658-c1e7-326d80a75680"
      },
      "source": [
        "from sklearn.neighbors import KNeighborsClassifier\n",
        "clf_knn=KNeighborsClassifier()\n",
        "clf_knn.fit(x_train,y_train)\n",
        "\n",
        "# predciting the testing data\n",
        "y_pred=clf_knn.predict(x_test)\n",
        "\n",
        "from sklearn.metrics import accuracy_score\n",
        "#multiplying with hundred for converting it interms of percentage(%)\n",
        "clf_knn_score=accuracy_score(y_test,y_pred)*100\n",
        "\n",
        "#predicting a random sample,whether it rains tomorrow or not\n",
        "my_pred=clf_knn.predict(np.asarray((8,24.3,0,3.4,6.3,30,6,20,68,29,1019.7,1015,7,7,14.4,23.6,0,3.6)).reshape(1,-1))\n",
        "get_rain(my_pred)"
      ],
      "execution_count": null,
      "outputs": [
        {
          "output_type": "execute_result",
          "data": {
            "application/vnd.google.colaboratory.intrinsic+json": {
              "type": "string"
            },
            "text/plain": [
              "'yes,there are chances for rain tomorrow'"
            ]
          },
          "metadata": {
            "tags": []
          },
          "execution_count": 83
        }
      ]
    },
    {
      "cell_type": "markdown",
      "metadata": {
        "id": "CPtniseNMqhF"
      },
      "source": [
        "NAIVE BAYES"
      ]
    },
    {
      "cell_type": "code",
      "metadata": {
        "colab": {
          "base_uri": "https://localhost:8080/",
          "height": 35
        },
        "id": "cE5PziApGUeN",
        "outputId": "c9b74ecd-e9d3-47f0-de63-744b2abc5d24"
      },
      "source": [
        "from sklearn.naive_bayes import GaussianNB\n",
        "clf_gnb=GaussianNB()\n",
        "clf_gnb.fit(x_train,y_train)\n",
        "\n",
        "# predciting the testing data\n",
        "y_pred=clf_gnb.predict(x_test)\n",
        "\n",
        "from sklearn.metrics import accuracy_score\n",
        "#multiplying with hundred for converting it interms of percentage(%)\n",
        "clf_gnb_score=accuracy_score(y_test,y_pred)*100\n",
        "\n",
        "#predicting a random sample,whether it rains tomorrow or not\n",
        "my_pred=clf_gnb.predict(np.asarray((8,24.3,0,3.4,6.3,30,6,20,68,29,1019.7,1015,7,7,14.4,23.6,0,3.6)).reshape(1,-1))\n",
        "get_rain(my_pred)"
      ],
      "execution_count": null,
      "outputs": [
        {
          "output_type": "execute_result",
          "data": {
            "application/vnd.google.colaboratory.intrinsic+json": {
              "type": "string"
            },
            "text/plain": [
              "'yes,there are chances for rain tomorrow'"
            ]
          },
          "metadata": {
            "tags": []
          },
          "execution_count": 86
        }
      ]
    },
    {
      "cell_type": "markdown",
      "metadata": {
        "id": "6S6Ve3x1MruU"
      },
      "source": [
        "DECISION TREES\n",
        "\n"
      ]
    },
    {
      "cell_type": "code",
      "metadata": {
        "colab": {
          "base_uri": "https://localhost:8080/",
          "height": 35
        },
        "id": "LjQNSES-GkZi",
        "outputId": "0852a8b0-a767-4097-82d9-54b479259818"
      },
      "source": [
        "from sklearn.tree import DecisionTreeClassifier\n",
        "clf_dec=DecisionTreeClassifier()\n",
        "clf_dec.fit(x_train,y_train)\n",
        "\n",
        "# predciting the testing data\n",
        "y_pred=clf_dec.predict(x_test)\n",
        "\n",
        "from sklearn.metrics import accuracy_score\n",
        "#multiplying with hundred for converting it interms of percentage(%)\n",
        "clf_dec_score=accuracy_score(y_test,y_pred)*100\n",
        "\n",
        "#predicting a random sample,whether it rains tomorrow or not\n",
        "my_pred=clf_dec.predict(np.asarray((8,24.3,0,3.4,6.3,30,6,20,68,29,1019.7,1015,7,7,14.4,23.6,0,3.6)).reshape(1,-1))\n",
        "get_rain(my_pred)"
      ],
      "execution_count": null,
      "outputs": [
        {
          "output_type": "execute_result",
          "data": {
            "application/vnd.google.colaboratory.intrinsic+json": {
              "type": "string"
            },
            "text/plain": [
              "'yes,there are chances for rain tomorrow'"
            ]
          },
          "metadata": {
            "tags": []
          },
          "execution_count": 89
        }
      ]
    },
    {
      "cell_type": "markdown",
      "metadata": {
        "id": "WXrFfQxRMuhv"
      },
      "source": [
        "RANDOM FOREST\n",
        "\n"
      ]
    },
    {
      "cell_type": "code",
      "metadata": {
        "colab": {
          "base_uri": "https://localhost:8080/",
          "height": 35
        },
        "id": "4-VWIZyuHG8n",
        "outputId": "5537dbec-dc67-49b3-ae8a-0078a601cbdb"
      },
      "source": [
        "from sklearn.ensemble import RandomForestClassifier\n",
        "clf_ran=RandomForestClassifier()\n",
        "clf_ran.fit(x_train,y_train)\n",
        "\n",
        "# predciting the testing data\n",
        "y_pred=clf_ran.predict(x_test)\n",
        "\n",
        "from sklearn.metrics import accuracy_score\n",
        "#multiplying with hundred for converting it interms of percentage(%)\n",
        "clf_ran_score=accuracy_score(y_test,y_pred)*100\n",
        "\n",
        "#predicting a random sample,whether it rains tomorrow or not\n",
        "my_pred=clf_ran.predict(np.asarray((8,24.3,0,3.4,6.3,30,6,20,68,29,1019.7,1015,7,7,14.4,23.6,0,3.6)).reshape(1,-1))\n",
        "get_rain(my_pred)"
      ],
      "execution_count": null,
      "outputs": [
        {
          "output_type": "execute_result",
          "data": {
            "application/vnd.google.colaboratory.intrinsic+json": {
              "type": "string"
            },
            "text/plain": [
              "'yes,there are chances for rain tomorrow'"
            ]
          },
          "metadata": {
            "tags": []
          },
          "execution_count": 92
        }
      ]
    },
    {
      "cell_type": "code",
      "metadata": {
        "colab": {
          "base_uri": "https://localhost:8080/",
          "height": 320
        },
        "id": "krCx5VEwHYft",
        "outputId": "63f05e3f-e7b4-4f32-ec55-54c48690d357"
      },
      "source": [
        "plt.figure(figsize=(13,5))\n",
        "models=[\"LOGISTIC REGRESSION\",\"K NEAREST NEIGHBORS\",\"NAIVE BAYES\",\"DECISION TREES\",\"RANDOM FOREST\"]\n",
        "numbers=[reg_log_score,clf_knn_score,clf_gnb_score,clf_dec_score,clf_ran_score]\n",
        "plt.bar(models,numbers)\n",
        "plt.show()"
      ],
      "execution_count": null,
      "outputs": [
        {
          "output_type": "display_data",
          "data": {
            "image/png": "[encoded data removed]",
            "text/plain": [
              "<Figure size 936x360 with 1 Axes>"
            ]
          },
          "metadata": {
            "tags": [],
            "needs_background": "light"
          }
        }
      ]
    },
    {
      "cell_type": "markdown",
      "metadata": {
        "id": "qp8uH0KFHquH"
      },
      "source": [
        "from the above bar graph,we can clearly say that decision trees best suits the problem"
      ]
    }
  ]
}